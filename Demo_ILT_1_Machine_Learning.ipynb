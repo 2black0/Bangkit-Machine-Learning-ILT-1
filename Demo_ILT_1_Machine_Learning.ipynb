{
  "nbformat": 4,
  "nbformat_minor": 0,
  "metadata": {
    "colab": {
      "name": "Demo-ILT 1-Machine Learning",
      "provenance": [],
      "collapsed_sections": []
    },
    "kernelspec": {
      "name": "python3",
      "display_name": "Python 3"
    },
    "language_info": {
      "name": "python"
    }
  },
  "cells": [
    {
      "cell_type": "markdown",
      "source": [
        "# Python IT Automation: Intro to Python, Regex, and Bash Scripting\n"
      ],
      "metadata": {
        "id": "ApHE4w8GU_ep"
      }
    },
    {
      "cell_type": "markdown",
      "source": [
        "## Hello World in Python"
      ],
      "metadata": {
        "id": "vHzt87DYXZMq"
      }
    },
    {
      "cell_type": "markdown",
      "source": [
        "**What is Python?**\n",
        "\n",
        "Python is a dynamic, interpreted (bytecode-compiled) language. \n",
        "\n",
        "**Why programming with Python?**\n",
        "* Easy syntax\n",
        "* Most chosen language for IT\n",
        "* Omnipresent\n",
        "\n"
      ],
      "metadata": {
        "id": "lqot9q8IYTjE"
      }
    },
    {
      "cell_type": "code",
      "source": [
        "! python --version"
      ],
      "metadata": {
        "colab": {
          "base_uri": "https://localhost:8080/"
        },
        "id": "h2TaBzGjXfrn",
        "outputId": "c4af42d3-a007-433f-f8fe-9c9316a5c4fa"
      },
      "execution_count": 1,
      "outputs": [
        {
          "output_type": "stream",
          "name": "stdout",
          "text": [
            "Python 3.7.12\n"
          ]
        }
      ]
    },
    {
      "cell_type": "code",
      "execution_count": 2,
      "metadata": {
        "colab": {
          "base_uri": "https://localhost:8080/"
        },
        "id": "JCHI9CDAUPnk",
        "outputId": "e5a8c83d-8884-4f48-9ec0-7100a3de61e7"
      },
      "outputs": [
        {
          "output_type": "stream",
          "name": "stdout",
          "text": [
            "hello, bangkit!\n"
          ]
        }
      ],
      "source": [
        "print('hello, bangkit!')"
      ]
    },
    {
      "cell_type": "markdown",
      "source": [
        "## Basic Python Syntax"
      ],
      "metadata": {
        "id": "388VwBZmYPs0"
      }
    },
    {
      "cell_type": "markdown",
      "source": [
        "### Data Types\n",
        "\n",
        "* **String** (str): text.\n",
        "* **Integer** (int): numbers, without fraction.\n",
        "* **Float**: numbers with fraction.\n",
        "* **Boolean** (bool): data type which only has 2 values\n",
        "\n",
        "We can convert from one data type to others by committing to implicit conversion or defining an explicit conversion.\n"
      ],
      "metadata": {
        "id": "hRw-NPjcZVVe"
      }
    },
    {
      "cell_type": "markdown",
      "source": [
        "### Variables\n",
        "* Name to certain values\n",
        "* The values can be any data type\n",
        "* The process of storing a value inside a variable is called an assignment.\n",
        "* Can only be made up of letters, numbers, and underscore. \n",
        "* Can’t be Python reserved keywords."
      ],
      "metadata": {
        "id": "M_oidvqRbwPX"
      }
    },
    {
      "cell_type": "code",
      "source": [
        "# String (str)\n",
        "color = \"red\"\n",
        "print(type(color))"
      ],
      "metadata": {
        "colab": {
          "base_uri": "https://localhost:8080/"
        },
        "id": "pd6sULeYYFVm",
        "outputId": "041678c5-099e-41c0-a512-b7f548cca036"
      },
      "execution_count": 3,
      "outputs": [
        {
          "output_type": "stream",
          "name": "stdout",
          "text": [
            "<class 'str'>\n"
          ]
        }
      ]
    },
    {
      "cell_type": "code",
      "source": [
        "# Integer (int)\n",
        "length = 10\n",
        "print(type(length))"
      ],
      "metadata": {
        "colab": {
          "base_uri": "https://localhost:8080/"
        },
        "id": "dnWjuU5VayEf",
        "outputId": "7f1a1755-25db-4075-b19b-57d0c7d54c17"
      },
      "execution_count": 4,
      "outputs": [
        {
          "output_type": "stream",
          "name": "stdout",
          "text": [
            "<class 'int'>\n"
          ]
        }
      ]
    },
    {
      "cell_type": "code",
      "source": [
        "# Integer (int)\n",
        "length = '10'\n",
        "print(type(length))"
      ],
      "metadata": {
        "colab": {
          "base_uri": "https://localhost:8080/"
        },
        "id": "Q1KbdjFzu1d8",
        "outputId": "0f359d97-8b83-4d3d-8c5f-ca591d59d9dd"
      },
      "execution_count": 6,
      "outputs": [
        {
          "output_type": "stream",
          "name": "stdout",
          "text": [
            "<class 'str'>\n"
          ]
        }
      ]
    },
    {
      "cell_type": "code",
      "source": [
        "# Float\n",
        "width = 2.0\n",
        "print(type(width))"
      ],
      "metadata": {
        "colab": {
          "base_uri": "https://localhost:8080/"
        },
        "id": "5m38VmsTbCk0",
        "outputId": "42ad117f-b55a-4b17-f04e-54106824f80b"
      },
      "execution_count": 7,
      "outputs": [
        {
          "output_type": "stream",
          "name": "stdout",
          "text": [
            "<class 'float'>\n"
          ]
        }
      ]
    },
    {
      "cell_type": "code",
      "source": [
        "print(type(int(width)))"
      ],
      "metadata": {
        "colab": {
          "base_uri": "https://localhost:8080/"
        },
        "id": "b3mU-O3CbOCG",
        "outputId": "23b7d9e8-48ae-48c8-c879-dd585a868aa6"
      },
      "execution_count": 8,
      "outputs": [
        {
          "output_type": "stream",
          "name": "stdout",
          "text": [
            "<class 'int'>\n"
          ]
        }
      ]
    },
    {
      "cell_type": "code",
      "source": [
        "leng = int(length)\n",
        "print(type(leng))"
      ],
      "metadata": {
        "colab": {
          "base_uri": "https://localhost:8080/"
        },
        "id": "gypzTIakvT4Q",
        "outputId": "d833f423-0264-4a71-9977-60073c3d247c"
      },
      "execution_count": 9,
      "outputs": [
        {
          "output_type": "stream",
          "name": "stdout",
          "text": [
            "<class 'int'>\n"
          ]
        }
      ]
    },
    {
      "cell_type": "code",
      "source": [
        "leng = float(length)\n",
        "print(type(leng))"
      ],
      "metadata": {
        "colab": {
          "base_uri": "https://localhost:8080/"
        },
        "id": "hyKTONTNv1CO",
        "outputId": "e91890c3-3404-4497-da0a-9653badc3f9a"
      },
      "execution_count": 12,
      "outputs": [
        {
          "output_type": "stream",
          "name": "stdout",
          "text": [
            "<class 'float'>\n"
          ]
        }
      ]
    },
    {
      "cell_type": "markdown",
      "source": [
        "**Don't Do This**"
      ],
      "metadata": {
        "id": "K3E-I51FcUmB"
      }
    },
    {
      "cell_type": "code",
      "source": [
        "defs = 'Function'\n",
        "classs = 'Class'\n",
        "#print(and)\n",
        "#print(ors)"
      ],
      "metadata": {
        "id": "dGftZ9LabgwV"
      },
      "execution_count": 11,
      "outputs": []
    },
    {
      "cell_type": "markdown",
      "source": [
        "### Functions\n",
        "* Define function with def keyword.\n",
        "* Function has body, written as a block after colon in function definition. The block has indented to the right.\n",
        "* To get value from a function use the return keyword.\n"
      ],
      "metadata": {
        "id": "XyqGDWKNce5N"
      }
    },
    {
      "cell_type": "code",
      "source": [
        "def greeting(name):\n",
        "  return 'Hello, ' + name"
      ],
      "metadata": {
        "id": "-xDdDieMcaEv"
      },
      "execution_count": 15,
      "outputs": []
    },
    {
      "cell_type": "code",
      "source": [
        "print(greeting(\"Bangkit 2022\"))"
      ],
      "metadata": {
        "colab": {
          "base_uri": "https://localhost:8080/"
        },
        "id": "qK9CEaoxwyrH",
        "outputId": "dccf09ab-cbda-4817-b8c4-977b4a8878f7"
      },
      "execution_count": 16,
      "outputs": [
        {
          "output_type": "stream",
          "name": "stdout",
          "text": [
            "Hello, Bangkit 2022\n"
          ]
        }
      ]
    },
    {
      "cell_type": "code",
      "source": [
        "def plus(a,b):\n",
        "  return a+b"
      ],
      "metadata": {
        "id": "GVqdhfw1w6jz"
      },
      "execution_count": 17,
      "outputs": []
    },
    {
      "cell_type": "code",
      "source": [
        "plus(9,12)"
      ],
      "metadata": {
        "colab": {
          "base_uri": "https://localhost:8080/"
        },
        "id": "c87m1myXxAxq",
        "outputId": "00ce9c8a-1a1d-4c0e-df2d-880db3cf9477"
      },
      "execution_count": 18,
      "outputs": [
        {
          "output_type": "execute_result",
          "data": {
            "text/plain": [
              "21"
            ]
          },
          "metadata": {},
          "execution_count": 18
        }
      ]
    },
    {
      "cell_type": "code",
      "source": [
        "plus(8,45)"
      ],
      "metadata": {
        "colab": {
          "base_uri": "https://localhost:8080/"
        },
        "id": "SMXBjHl6xGN_",
        "outputId": "c0653990-6490-4ebe-dd70-a02e90368029"
      },
      "execution_count": 19,
      "outputs": [
        {
          "output_type": "execute_result",
          "data": {
            "text/plain": [
              "53"
            ]
          },
          "metadata": {},
          "execution_count": 19
        }
      ]
    },
    {
      "cell_type": "code",
      "source": [
        "def example_of_function_with_2_return_values(a,b,c,d):\n",
        "  e = a+b\n",
        "  f = c-d\n",
        "  g =[e,f]\n",
        "  return g"
      ],
      "metadata": {
        "id": "-oERiKwCxvp4"
      },
      "execution_count": 27,
      "outputs": []
    },
    {
      "cell_type": "code",
      "source": [
        "example_of_function_with_2_return_values(1,2,3,4)"
      ],
      "metadata": {
        "colab": {
          "base_uri": "https://localhost:8080/"
        },
        "id": "CJapB10Wx_OE",
        "outputId": "38e09f54-a2d9-4251-ba0d-2c3033220376"
      },
      "execution_count": 28,
      "outputs": [
        {
          "output_type": "execute_result",
          "data": {
            "text/plain": [
              "[3, -1]"
            ]
          },
          "metadata": {},
          "execution_count": 28
        }
      ]
    },
    {
      "cell_type": "code",
      "source": [
        "print(type(example_of_function_with_2_return_values(1,2,3,4)))"
      ],
      "metadata": {
        "colab": {
          "base_uri": "https://localhost:8080/"
        },
        "id": "BDen9Wl9yGDB",
        "outputId": "ae2c9db7-847e-4d74-d1ff-08bd435ebe41"
      },
      "execution_count": 29,
      "outputs": [
        {
          "output_type": "stream",
          "name": "stdout",
          "text": [
            "<class 'list'>\n"
          ]
        }
      ]
    },
    {
      "cell_type": "markdown",
      "source": [
        "### Comparison\n",
        "* Boolean (bool) data type represents one of two possible states, either True or False.\n",
        "* Not all data types can be compared, so be aware to compare two different data types.\n",
        "* Comparison operator not only checking equality and less/more it also includes logical operator: and, or, not.\n"
      ],
      "metadata": {
        "id": "xYCEhaOlfbK0"
      }
    },
    {
      "cell_type": "code",
      "source": [
        "print(1 < 10)\n"
      ],
      "metadata": {
        "colab": {
          "base_uri": "https://localhost:8080/"
        },
        "id": "E5dQxPXMfnLZ",
        "outputId": "57e9581d-223f-4606-e591-46bf5f61ab35"
      },
      "execution_count": 20,
      "outputs": [
        {
          "output_type": "stream",
          "name": "stdout",
          "text": [
            "True\n"
          ]
        }
      ]
    },
    {
      "cell_type": "code",
      "source": [
        "print(\"Linux\" == \"Windows\")"
      ],
      "metadata": {
        "colab": {
          "base_uri": "https://localhost:8080/"
        },
        "id": "n2oO0tDdxZpv",
        "outputId": "e1c5c389-9643-4dfc-9535-e0a6397545fb"
      },
      "execution_count": 21,
      "outputs": [
        {
          "output_type": "stream",
          "name": "stdout",
          "text": [
            "False\n"
          ]
        }
      ]
    },
    {
      "cell_type": "code",
      "source": [
        "print(1 != \"1\")"
      ],
      "metadata": {
        "colab": {
          "base_uri": "https://localhost:8080/"
        },
        "id": "aMWkZnS6xfLy",
        "outputId": "f3a613b9-9968-4d1a-afce-44c43fb9cb35"
      },
      "execution_count": 22,
      "outputs": [
        {
          "output_type": "stream",
          "name": "stdout",
          "text": [
            "True\n"
          ]
        }
      ]
    },
    {
      "cell_type": "code",
      "source": [
        "print(not True)"
      ],
      "metadata": {
        "colab": {
          "base_uri": "https://localhost:8080/"
        },
        "id": "VuPL4fdhxo0H",
        "outputId": "5b0185f9-0827-442a-ba0f-7bee27cba119"
      },
      "execution_count": 23,
      "outputs": [
        {
          "output_type": "stream",
          "name": "stdout",
          "text": [
            "False\n"
          ]
        }
      ]
    },
    {
      "cell_type": "markdown",
      "source": [
        "* Comparison operators\n",
        "  * a == b: a is equal to b\n",
        "  * a != b: a is different than b\n",
        "  * a < b: a is smaller than b\n",
        "  * a <= b: a is smaller or equal to b\n",
        "  * a > b: a is bigger than b\n",
        "  * a >= b: a is bigger or equal to b\n",
        "\n",
        "* Logical operators\n",
        "  * a and b: True if both a and b are True. False otherwise.\n",
        "  * a or b: True if either a or b or both are True. False if both are False.\n",
        "  * not a: True if a is False, False if a is True.\n"
      ],
      "metadata": {
        "id": "x79WDe4vf4Ve"
      }
    },
    {
      "cell_type": "markdown",
      "source": [
        "### Conditional & If Statements\n",
        "* The ability of a program to alter its execution sequence is called branching.\n",
        "* The if block will be executed only if the condition is True.\n",
        "* Use elif & else statement to handle multiple conditions. "
      ],
      "metadata": {
        "id": "DM6lel6hc_QH"
      }
    },
    {
      "cell_type": "code",
      "source": [
        "hour = 10\n",
        "if hour < 12:\n",
        "  print(\"Good morning!\")"
      ],
      "metadata": {
        "colab": {
          "base_uri": "https://localhost:8080/"
        },
        "id": "IwHO0YxSc2Hf",
        "outputId": "82d60b47-6c97-4b2c-c901-407c1fa63592"
      },
      "execution_count": 30,
      "outputs": [
        {
          "output_type": "stream",
          "name": "stdout",
          "text": [
            "Good morning!\n"
          ]
        }
      ]
    },
    {
      "cell_type": "code",
      "source": [
        "def check(number):\n",
        "    if number > 0:\n",
        "        return \"Positive\"\n",
        "    elif number == 0:\n",
        "        return \"Zero\"\n",
        "    else: \n",
        "        return \"Negative\""
      ],
      "metadata": {
        "id": "ycVxi8cEdTyt"
      },
      "execution_count": 32,
      "outputs": []
    },
    {
      "cell_type": "code",
      "source": [
        "print(check(-5))"
      ],
      "metadata": {
        "colab": {
          "base_uri": "https://localhost:8080/"
        },
        "id": "17_GXs2k0FHL",
        "outputId": "52a11729-0517-4ed6-e5c2-a4a97c889b97"
      },
      "execution_count": 35,
      "outputs": [
        {
          "output_type": "stream",
          "name": "stdout",
          "text": [
            "Negative\n"
          ]
        }
      ]
    },
    {
      "cell_type": "markdown",
      "source": [
        "### Loops\n",
        "\n",
        "**while** loop instruct computer to continuously execute code based on the value of a condition.\n",
        "\n",
        "\n"
      ],
      "metadata": {
        "id": "EBeW3s6kgevL"
      }
    },
    {
      "cell_type": "code",
      "source": [
        "x = 7  # also try with x = 0\n",
        "\n",
        "while x > 0:\n",
        "  print(\"positive x=\" + str(x))\n",
        "  x = x - 1\n",
        "  print(\"now x=\" + str(x))\n"
      ],
      "metadata": {
        "colab": {
          "base_uri": "https://localhost:8080/"
        },
        "id": "ZKXR6gZGfRI_",
        "outputId": "adce783d-d490-4435-abf9-f36d1b69f9c7"
      },
      "execution_count": 37,
      "outputs": [
        {
          "output_type": "stream",
          "name": "stdout",
          "text": [
            "positive x=7\n",
            "now x=6\n",
            "positive x=6\n",
            "now x=5\n",
            "positive x=5\n",
            "now x=4\n",
            "positive x=4\n",
            "now x=3\n",
            "positive x=3\n",
            "now x=2\n",
            "positive x=2\n",
            "now x=1\n",
            "positive x=1\n",
            "now x=0\n"
          ]
        }
      ]
    },
    {
      "cell_type": "markdown",
      "source": [
        "\n",
        "**for** loop iterates over a sequence of values."
      ],
      "metadata": {
        "id": "mBicYfLNgqBU"
      }
    },
    {
      "cell_type": "code",
      "source": [
        "for x in range(3):\n",
        "  print(\"x=\" + str(x))"
      ],
      "metadata": {
        "colab": {
          "base_uri": "https://localhost:8080/"
        },
        "id": "ItDfsx5-grSM",
        "outputId": "3019d241-b7b3-412d-c1d7-8bf4e3960325"
      },
      "execution_count": 38,
      "outputs": [
        {
          "output_type": "stream",
          "name": "stdout",
          "text": [
            "x=0\n",
            "x=1\n",
            "x=2\n"
          ]
        }
      ]
    },
    {
      "cell_type": "markdown",
      "source": [
        "Both while and for loops can be interrupted using the **break** keyword. \n",
        "\n"
      ],
      "metadata": {
        "id": "Nr8XRQx6hMYI"
      }
    },
    {
      "cell_type": "code",
      "source": [
        "for x in range(3):\n",
        "    print(\"x=\" + str(x))\n",
        "    if x == 1:\n",
        "        break  # quit from loop\n"
      ],
      "metadata": {
        "colab": {
          "base_uri": "https://localhost:8080/"
        },
        "id": "vt5AIOQtg5wd",
        "outputId": "b6915bba-bb5a-4284-8c26-886efc3cb741"
      },
      "execution_count": 39,
      "outputs": [
        {
          "output_type": "stream",
          "name": "stdout",
          "text": [
            "x=0\n",
            "x=1\n"
          ]
        }
      ]
    },
    {
      "cell_type": "markdown",
      "source": [
        "Use the **continue** keyword to skip the current iteration and continue with the next one."
      ],
      "metadata": {
        "id": "LAdX1_e6hU2x"
      }
    },
    {
      "cell_type": "code",
      "source": [
        "for x in range(3, 0, -1):\n",
        "    if x % 2 == 0:\n",
        "        continue  # skip even\n",
        "    print(x)\n"
      ],
      "metadata": {
        "colab": {
          "base_uri": "https://localhost:8080/"
        },
        "id": "KWEYYL7AhO4t",
        "outputId": "b4180456-e012-48ea-f964-9b9062371549"
      },
      "execution_count": 40,
      "outputs": [
        {
          "output_type": "stream",
          "name": "stdout",
          "text": [
            "3\n",
            "1\n"
          ]
        }
      ]
    },
    {
      "cell_type": "markdown",
      "source": [
        "## Python Data Structure\n"
      ],
      "metadata": {
        "id": "QkwBAt7HhsIU"
      }
    },
    {
      "cell_type": "markdown",
      "source": [
        "### Strings\n",
        "\n",
        "* **Represent a piece of text**.\n",
        "\n",
        "String is a data type in Python employed to represent a piece of text. It’s written between quotes, either single quotes, double quotes, or triple quotes. Escape character using backslash (\\).\n",
        "\n",
        "String can be as short as zero characters (empty string) or significantly long. String concatenation using plus sign (+). The **len** function tells the number of characters contained in the string.\n"
      ],
      "metadata": {
        "id": "2A_xK5CkiPcx"
      }
    },
    {
      "cell_type": "code",
      "source": [
        "program_name = 'bangkit'\n",
        "program_year = \"it's the 2nd\"\n",
        "multi_line = \"\"\"hello,\n",
        "email test.\n",
        "signature.\"\"\"\n",
        "  \n",
        "# let's\n",
        "# \"bangkit\"\n",
        "print(\"let's\\n\\\"\"+program_name+\"\\\"\")\n",
        "\n",
        "\n",
        "print(len(''))  # 0\n",
        "print(len(program_name)==7)  # True\n"
      ],
      "metadata": {
        "colab": {
          "base_uri": "https://localhost:8080/"
        },
        "id": "cZFRNf77i91s",
        "outputId": "fa6d90c4-24e7-44c7-a6d2-6b637cca853a"
      },
      "execution_count": 41,
      "outputs": [
        {
          "output_type": "stream",
          "name": "stdout",
          "text": [
            "let's\n",
            "\"bangkit\"\n",
            "0\n",
            "True\n"
          ]
        }
      ]
    },
    {
      "cell_type": "markdown",
      "source": [
        "* **To access substring, use index or slicing**.\n",
        "\n",
        "Python starts counting indexes from 0 not 1. Access index greater than its length - 1, triggers index out of range. Negative indexes starts from behind.\n",
        "\n",
        "To access substring, use slicing, similar to index, with range using a colon as a separator, starts from first number, up to 1 less than last.\n",
        "\n",
        "Slicing with one of two indexes means the other index is either 0 for the first value or its length for the second value.\n"
      ],
      "metadata": {
        "id": "A0vx0h5Yi-oc"
      }
    },
    {
      "cell_type": "code",
      "source": [
        "name = 'bangkit'\n",
        "print(name[1])  # a\n",
        "print(name[len(name)-1])  # t\n",
        "print(name[-1])  # t\n",
        "print(name[-2])  # i\n",
        "  \n",
        "print(name[4:len(name)-1])  # ki\n",
        "  \n",
        "print(name[:4])  # bang (0-3)\n",
        "print(name[4:])  # kit  (4-len)"
      ],
      "metadata": {
        "colab": {
          "base_uri": "https://localhost:8080/"
        },
        "id": "CWK5PbZMhP-E",
        "outputId": "062071e4-5fb0-4cf0-965e-3332b061ff97"
      },
      "execution_count": 43,
      "outputs": [
        {
          "output_type": "stream",
          "name": "stdout",
          "text": [
            "a\n",
            "t\n",
            "t\n",
            "i\n",
            "ki\n",
            "bang\n",
            "kit\n"
          ]
        }
      ]
    },
    {
      "cell_type": "code",
      "source": [
        "s = \"Nama saya X\".split()"
      ],
      "metadata": {
        "id": "oBPieVw71tF9"
      },
      "execution_count": 47,
      "outputs": []
    },
    {
      "cell_type": "code",
      "source": [
        "type(s)"
      ],
      "metadata": {
        "colab": {
          "base_uri": "https://localhost:8080/"
        },
        "id": "0TZ6XVjX1zVx",
        "outputId": "39a5596b-f9cf-4f30-e630-07be650282d6"
      },
      "execution_count": 48,
      "outputs": [
        {
          "output_type": "execute_result",
          "data": {
            "text/plain": [
              "list"
            ]
          },
          "metadata": {},
          "execution_count": 48
        }
      ]
    },
    {
      "cell_type": "code",
      "source": [
        "s"
      ],
      "metadata": {
        "colab": {
          "base_uri": "https://localhost:8080/"
        },
        "id": "Skp9i8pi14b2",
        "outputId": "18102b84-bb5d-4ada-a965-1fddae675079"
      },
      "execution_count": 49,
      "outputs": [
        {
          "output_type": "execute_result",
          "data": {
            "text/plain": [
              "['Nama', 'saya', 'X']"
            ]
          },
          "metadata": {},
          "execution_count": 49
        }
      ]
    },
    {
      "cell_type": "code",
      "source": [
        "s[0]='Names'"
      ],
      "metadata": {
        "id": "MF0Ou9Ve15to"
      },
      "execution_count": 51,
      "outputs": []
    },
    {
      "cell_type": "markdown",
      "source": [
        "* **Strings in Python are immutable**\n",
        "\n",
        "Strings in Python are immutable, meaning they can't be modified, can’t change individual characters. It'll trigger TypeError object does not support item assignment.\n",
        "\n",
        "To change string, replace it with the new string.\n",
        "\n",
        "Use in keyword to check if substring is a part of the string."
      ],
      "metadata": {
        "id": "oM--5287iyJO"
      }
    },
    {
      "cell_type": "code",
      "source": [
        "year = \"it's 2021\"\n",
        "year[-1] = \"0\"  # TypeError"
      ],
      "metadata": {
        "colab": {
          "base_uri": "https://localhost:8080/",
          "height": 183
        },
        "id": "GKVOcTT9ijAi",
        "outputId": "54ba6645-0bf4-480d-df38-8a9abf597c3c"
      },
      "execution_count": 44,
      "outputs": [
        {
          "output_type": "error",
          "ename": "TypeError",
          "evalue": "ignored",
          "traceback": [
            "\u001b[0;31m---------------------------------------------------------------------------\u001b[0m",
            "\u001b[0;31mTypeError\u001b[0m                                 Traceback (most recent call last)",
            "\u001b[0;32m<ipython-input-44-140468fc7539>\u001b[0m in \u001b[0;36m<module>\u001b[0;34m()\u001b[0m\n\u001b[1;32m      1\u001b[0m \u001b[0myear\u001b[0m \u001b[0;34m=\u001b[0m \u001b[0;34m\"it's 2021\"\u001b[0m\u001b[0;34m\u001b[0m\u001b[0;34m\u001b[0m\u001b[0m\n\u001b[0;32m----> 2\u001b[0;31m \u001b[0myear\u001b[0m\u001b[0;34m[\u001b[0m\u001b[0;34m-\u001b[0m\u001b[0;36m1\u001b[0m\u001b[0;34m]\u001b[0m \u001b[0;34m=\u001b[0m \u001b[0;34m\"0\"\u001b[0m  \u001b[0;31m# TypeError\u001b[0m\u001b[0;34m\u001b[0m\u001b[0;34m\u001b[0m\u001b[0m\n\u001b[0m",
            "\u001b[0;31mTypeError\u001b[0m: 'str' object does not support item assignment"
          ]
        }
      ]
    },
    {
      "cell_type": "code",
      "source": [
        ""
      ],
      "metadata": {
        "id": "BaFqUw0Y1c1C"
      },
      "execution_count": null,
      "outputs": []
    },
    {
      "cell_type": "markdown",
      "source": [
        "* **Provide a bunch of methods for working with text**\n",
        "\n",
        "String class provide a bunch of methods for working with text. Not only related to text modification, there's also many of text checking method.\n",
        "\n",
        "Remember, the goal is not for memorize all of the methods, just check the documentation or search on the web anytime."
      ],
      "metadata": {
        "id": "vW6HqPvQi0MU"
      }
    },
    {
      "cell_type": "code",
      "source": [
        "program = 'bangkit 2021'\n",
        "print(program.index('g'))  # 3\n",
        "\n",
        "print(program.upper())  # BANGKIT 2021\n",
        "print(program.endswith('2021'))  # True\n",
        "print(program.replace('2021', '2020'))\n",
        "\n",
        "year = 2021  # integer 2021\n",
        "print(str(year).isnumeric())  # True\n",
        "# bangkit for 2021\n",
        "print(\"{} for {}\".format(\"bangkit\", year))\n"
      ],
      "metadata": {
        "colab": {
          "base_uri": "https://localhost:8080/"
        },
        "id": "mOoxsQWHhqrM",
        "outputId": "dfb7efac-4ae8-4fb4-fd97-7f989c32112f"
      },
      "execution_count": 45,
      "outputs": [
        {
          "output_type": "stream",
          "name": "stdout",
          "text": [
            "3\n",
            "BANGKIT 2021\n",
            "True\n",
            "bangkit 2020\n",
            "True\n",
            "bangkit for 2021\n"
          ]
        }
      ]
    },
    {
      "cell_type": "markdown",
      "source": [
        "### List\n",
        "Think of list as container with space inside divided up into different slots. Each slot can contain a different value.\n",
        "\n",
        "Python use square brackets [] to indicate where the list starts and ends. list indexes starts from 0, just like string, also slicing to return another list.\n",
        "\n"
      ],
      "metadata": {
        "id": "22aFhqCfpJZY"
      }
    },
    {
      "cell_type": "code",
      "source": [
        "program_year = [2020, 2021]\n",
        "\n",
        "print(type(program_year))    # list\n",
        "print(program_year)\n",
        "print(len(program_year))     # 2\n",
        "print(2019 in program_year)  # False\n",
        "\n",
        "print(program_year[0])       # 2020\n",
        "print(program_year[:1])     # [2020]\n",
        "\n",
        "for year in program_year:\n",
        "    print(year)  # element per line\n"
      ],
      "metadata": {
        "colab": {
          "base_uri": "https://localhost:8080/"
        },
        "id": "qVKkXwBbimF1",
        "outputId": "ef6b2273-06ce-4c62-dfc6-06d949699a5a"
      },
      "execution_count": 23,
      "outputs": [
        {
          "output_type": "stream",
          "name": "stdout",
          "text": [
            "<class 'list'>\n",
            "[2020, 2021]\n",
            "2\n",
            "False\n",
            "2020\n",
            "[2020]\n",
            "2020\n",
            "2021\n"
          ]
        }
      ]
    },
    {
      "cell_type": "markdown",
      "source": [
        "If strings are immutable, lists are mutable, means able to add, remove, or modify elements in a list.\n",
        "\n",
        "Use append to add to last element. To add on specific index, use insert. To delete element, use remove with element or pop with index.\n",
        "\n",
        "For element modification, change directly to the specific index.\n",
        "\n"
      ],
      "metadata": {
        "id": "DSV5WUSdpqaN"
      }
    },
    {
      "cell_type": "code",
      "source": [
        "paths = ['ML', 'Cloud']\n",
        "paths.append('Android')\n"
      ],
      "metadata": {
        "id": "APtq9qGGpo-G"
      },
      "execution_count": 53,
      "outputs": []
    },
    {
      "cell_type": "code",
      "source": [
        "print(paths)"
      ],
      "metadata": {
        "colab": {
          "base_uri": "https://localhost:8080/"
        },
        "id": "ZiCAUX9D2NPv",
        "outputId": "1a33b4ec-ce00-4931-da51-733e9ed3a60b"
      },
      "execution_count": 54,
      "outputs": [
        {
          "output_type": "stream",
          "name": "stdout",
          "text": [
            "['ML', 'Cloud', 'Android']\n"
          ]
        }
      ]
    },
    {
      "cell_type": "code",
      "source": [
        "paths.remove('Android')\n",
        "print(paths)"
      ],
      "metadata": {
        "colab": {
          "base_uri": "https://localhost:8080/"
        },
        "id": "0XEKBfSf2Uz2",
        "outputId": "f701abcb-5f0c-48a5-af04-8a8fbf086440"
      },
      "execution_count": 55,
      "outputs": [
        {
          "output_type": "stream",
          "name": "stdout",
          "text": [
            "['ML', 'Cloud']\n"
          ]
        }
      ]
    },
    {
      "cell_type": "code",
      "source": [
        "print(len(paths))  # 3\n",
        "paths.remove('Android')\n",
        "paths.insert(1, 'Mobile')\n",
        "\n",
        "# ['ML', 'Mobile', 'Cloud']\n",
        "print(paths)\n",
        "paths.append('Python')\n",
        "paths.pop(-1)  # remove 'Python'\n",
        "\n",
        "# change 'ML' to 'Machine Learning'\n",
        "paths[0] = 'Machine Learning'"
      ],
      "metadata": {
        "id": "4FpmZUs62M3P"
      },
      "execution_count": null,
      "outputs": []
    },
    {
      "cell_type": "markdown",
      "source": [
        "We can create a new list from a sequence or a range in single line using list comprehensions.\n",
        "\n",
        "List comprehensions can be really powerful, but can also be utterly complex, resulting to codes that are hard to read.\n"
      ],
      "metadata": {
        "id": "l8T_Z2JqpzJr"
      }
    },
    {
      "cell_type": "code",
      "source": [
        "even = [x*2 for x in range(1,5)]\n",
        "print(even)  # [2, 4, 6, 8]\n",
        "\n",
        "tens = [x for x in range(50) if x % 10 == 0]\n",
        "print(tens)  # [0, 10, 20, 30, 40]"
      ],
      "metadata": {
        "colab": {
          "base_uri": "https://localhost:8080/"
        },
        "id": "F-x8LfZApd4M",
        "outputId": "27799f29-9834-46fe-ddb1-ed2dbb2f9244"
      },
      "execution_count": 25,
      "outputs": [
        {
          "output_type": "stream",
          "name": "stdout",
          "text": [
            "[2, 4, 6, 8]\n",
            "[0, 10, 20, 30, 40]\n"
          ]
        }
      ]
    },
    {
      "cell_type": "markdown",
      "source": [
        "### Tuples\n",
        "Tuples are like lists. They can contain elements of any data type. But, unlike lists, tuples are immutable.\n",
        "\n",
        "Python using parentheses () to indicate where the tuple starts and ends.\n",
        "\n",
        "Good example of tuple is when a function returns multiple values.\n",
        "\n",
        "Strings, Lists, and Tuples are included as sequence types.\n",
        "\n"
      ],
      "metadata": {
        "id": "xEP2xasmqVia"
      }
    },
    {
      "cell_type": "code",
      "source": [
        "def get_stat(numbers):\n",
        "  total = sum(numbers)\n",
        "  length = len(numbers)\n",
        "  mean = total / length\n",
        "  return length, total, mean\n",
        "\n",
        "stat = get_stat([1, 3, 5, 7])\n",
        "print(stat)  # (4, 16, 4.0)\n",
        "print(type(stat))  # tuple\n",
        "\n",
        "for data in stat:\n",
        "    print(data)  # element per line\n"
      ],
      "metadata": {
        "colab": {
          "base_uri": "https://localhost:8080/"
        },
        "id": "hkcAx9Uvp7UT",
        "outputId": "b8adef09-6f99-47f1-c2e8-b1f12e8376c7"
      },
      "execution_count": 26,
      "outputs": [
        {
          "output_type": "stream",
          "name": "stdout",
          "text": [
            "(4, 16, 4.0)\n",
            "<class 'tuple'>\n",
            "4\n",
            "16\n",
            "4.0\n"
          ]
        }
      ]
    },
    {
      "cell_type": "markdown",
      "source": [
        "### Dictionaries\n",
        "Like lists, dictionaries are used to organize elements into collections. Unlike lists, not accessing elements inside dictionaries using position.\n",
        "\n",
        "Data inside dictionaries take the form of **pairs of keys and values**. To get a dictionary value, use its corresponding key.\n",
        "\n",
        "Not like list index must be a number, type of key in dictionary use strings, integers, tuples & more.\n",
        "dictionary use curly brackets {}.\n",
        "\n"
      ],
      "metadata": {
        "id": "VyUHUCubquWv"
      }
    },
    {
      "cell_type": "code",
      "source": [
        "students = {\n",
        "    'ml': 500,\n",
        "    'mobile': 700,\n",
        "    'cloud': 900\n",
        "}\n",
        "print(type(students))     # dict\n",
        "print(students['cloud'])  # 900\n",
        "\n",
        "# keys: ['ml', 'mobile', 'cloud']\n",
        "for key in students.keys():\n",
        "    # eg: ml:500\n",
        "    print(key + ': '+ str(students[key]))\n"
      ],
      "metadata": {
        "colab": {
          "base_uri": "https://localhost:8080/"
        },
        "id": "uNCwOcZkqdrs",
        "outputId": "a087b6e9-ad4b-4449-b9ea-c47b2e7b8017"
      },
      "execution_count": 27,
      "outputs": [
        {
          "output_type": "stream",
          "name": "stdout",
          "text": [
            "<class 'dict'>\n",
            "900\n",
            "ml: 500\n",
            "mobile: 700\n",
            "cloud: 900\n"
          ]
        }
      ]
    },
    {
      "cell_type": "markdown",
      "source": [
        "Use for loops to iterate through the contents of dictionary (implicitly over keys).\n",
        "\n",
        "To get both key and value as tuple at the same time, use items.\n",
        "\n",
        "Other than using keys to get all keys, use values to get all dictionary values.\n",
        "\n"
      ],
      "metadata": {
        "id": "4hIPmXQtsdBk"
      }
    },
    {
      "cell_type": "code",
      "source": [
        "file_counts = {\"jpg\": 10,\n",
        "               \"txt\": 14,\n",
        "               \"csv\": 2,\n",
        "               \"py\": 23}\n",
        "for extension in file_counts:\n",
        "    print(extension)  # eg: jpg\n",
        "\n",
        "\n",
        "for ext, amount in file_counts.items():\n",
        "    print('{} files .{}'\n",
        "          .format(amount, ext))\n"
      ],
      "metadata": {
        "colab": {
          "base_uri": "https://localhost:8080/"
        },
        "id": "4WNUwL3AscOs",
        "outputId": "07f9832a-d556-4f6e-e4ea-163a276b6099"
      },
      "execution_count": 28,
      "outputs": [
        {
          "output_type": "stream",
          "name": "stdout",
          "text": [
            "jpg\n",
            "txt\n",
            "csv\n",
            "py\n",
            "10 files .jpg\n",
            "14 files .txt\n",
            "2 files .csv\n",
            "23 files .py\n"
          ]
        }
      ]
    },
    {
      "cell_type": "markdown",
      "source": [
        "Just like lists, dictionaries are mutable, means able to add, remove, or modify elements in a dictionary.\n",
        "\n",
        "Set new value using associated key. Add item (pairs of key & value) by set new key with new value. Delete item with del keyword or delete all items using clear.\n",
        "\n",
        "Use dictionary over list if aims to access data via its key instead of iterate to find the key.\n"
      ],
      "metadata": {
        "id": "kSk-8dggssPz"
      }
    },
    {
      "cell_type": "code",
      "source": [
        "# point in line y = 2x + 1\n",
        "point_a = {'x': 2, 'y': 5}\n",
        "point_a['x'] = 3\n",
        "point_a['y'] = 7\n",
        "\n",
        "\n",
        "new_point = {}  # empty dictionary\n",
        "new_point['z'] = 2\n",
        "print(len(new_point.keys()))  # 1\n",
        "del new_point['z']  # remove item\n",
        "print(new_point)    # {}\n",
        "\n",
        "\n",
        "new_point = {'x': 0, 'y': 1}\n",
        "new_point.clear()\n",
        "print(new_point)    # {}\n"
      ],
      "metadata": {
        "colab": {
          "base_uri": "https://localhost:8080/"
        },
        "id": "xuKXlcZWsrup",
        "outputId": "89f9f9e5-df30-44a7-c800-17d3d7fcda0b"
      },
      "execution_count": 29,
      "outputs": [
        {
          "output_type": "stream",
          "name": "stdout",
          "text": [
            "1\n",
            "{}\n",
            "{}\n"
          ]
        }
      ]
    },
    {
      "cell_type": "markdown",
      "source": [
        "## Regular Expressions (Regex)\n",
        "\n",
        "A regular expression, also known as regex or regexp, is essentially a search query for text that’s expressed by string pattern.\n",
        "\n",
        "There are multiple different ways through which we can apply regular expressions, a whole wide range of programming languages, includes Python. Also command line tools that know how to apply regexes, like grep, sed or awk. The implementation may vary, but the principles remain the same.\n",
        "\n"
      ],
      "metadata": {
        "id": "Ix5rz1cgr-gu"
      }
    },
    {
      "cell_type": "markdown",
      "source": [
        "* Regular expressions in Python uses raw string (r\"\"). It means that interpreter shouldn't try to interpret any special characters. Just pass the string to the function as is.\n",
        "* The Match object includes information like position in the string that matched and the actual matching string.\n",
        "\n",
        "\n"
      ],
      "metadata": {
        "id": "6zcosPuwsM79"
      }
    },
    {
      "cell_type": "code",
      "source": [
        "import re\n",
        "\n",
        "\n",
        "result = re.search(r\"aza\", \"plaza\")\n",
        "print(result)\n",
        "# <re.Match object; span=(2, 5), match='aza'>\n",
        "print(re.search(r\"aza\", \"maze\"))\n",
        "# None"
      ],
      "metadata": {
        "colab": {
          "base_uri": "https://localhost:8080/"
        },
        "id": "nOAHvuvvuV5R",
        "outputId": "25429c9d-0a1c-4ed7-f60e-0ddc67c0eac1"
      },
      "execution_count": 30,
      "outputs": [
        {
          "output_type": "stream",
          "name": "stdout",
          "text": [
            "<re.Match object; span=(2, 5), match='aza'>\n",
            "None\n"
          ]
        }
      ]
    },
    {
      "cell_type": "markdown",
      "source": [
        "* Circumflex (^) pattern matches the beginning of the line. Dot (.) matches any character. Option re.IGNORECASE to match insensitive case."
      ],
      "metadata": {
        "id": "3aL1F5a7uZDL"
      }
    },
    {
      "cell_type": "code",
      "source": [
        "print(re.search(r\"^x\", \"xenon\"))\n",
        "# <re.Match object; span=(0, 1), match='x'>\n",
        "\n",
        "print(re.search(r\"p.ng\", \"sponge\"))\n",
        "# <re.Match object; span=(1, 5), match='pong'>\n"
      ],
      "metadata": {
        "colab": {
          "base_uri": "https://localhost:8080/"
        },
        "id": "CJn7iAFpsLjh",
        "outputId": "e09ab374-393f-454e-f37d-442d06a0698c"
      },
      "execution_count": 31,
      "outputs": [
        {
          "output_type": "stream",
          "name": "stdout",
          "text": [
            "<re.Match object; span=(0, 1), match='x'>\n",
            "<re.Match object; span=(1, 5), match='pong'>\n"
          ]
        }
      ]
    },
    {
      "cell_type": "markdown",
      "source": [
        "* To matched a range of characters, use another feature of regexes called character classes ([ ]).\n"
      ],
      "metadata": {
        "id": "mhL2gjujxQ17"
      }
    },
    {
      "cell_type": "code",
      "source": [
        "print(re.search(r\"cloud[a-zA-Z0-9]\", \"cloud9\"))\n",
        "# <re.Match object; span=(0, 6), match='cloud9'>\n",
        "\n",
        "print(re.search(r\"[^a-zA-Z]\", \"This is a sentence.\"))\n",
        "# <re.Match object; span=(4, 5), match=' '>"
      ],
      "metadata": {
        "colab": {
          "base_uri": "https://localhost:8080/"
        },
        "id": "Wpfo9E3aq-PI",
        "outputId": "ed9bdec9-cd77-4edd-d7a7-28d1a8ce3123"
      },
      "execution_count": 32,
      "outputs": [
        {
          "output_type": "stream",
          "name": "stdout",
          "text": [
            "<re.Match object; span=(0, 6), match='cloud9'>\n",
            "<re.Match object; span=(4, 5), match=' '>\n"
          ]
        }
      ]
    },
    {
      "cell_type": "markdown",
      "source": [
        "* Use the pipe symbol (|) to match one expression or another."
      ],
      "metadata": {
        "id": "7krjV5equfvW"
      }
    },
    {
      "cell_type": "code",
      "source": [
        "print(re.search(r\"cat|dog\", \"I like cats.\"))\n",
        "# <re.Match object; span=(7, 10), match='cat'>"
      ],
      "metadata": {
        "colab": {
          "base_uri": "https://localhost:8080/"
        },
        "id": "LNkO7WZZukUH",
        "outputId": "a1fd2a3a-1f45-4319-f948-d5883cb75750"
      },
      "execution_count": 33,
      "outputs": [
        {
          "output_type": "stream",
          "name": "stdout",
          "text": [
            "<re.Match object; span=(7, 10), match='cat'>\n"
          ]
        }
      ]
    },
    {
      "cell_type": "markdown",
      "source": [
        "* Dollar sign ($) pattern match the end of the line."
      ],
      "metadata": {
        "id": "eg7gKGMPuioi"
      }
    },
    {
      "cell_type": "code",
      "source": [
        "print(re.search(r\"cat$\", \"I like cats.\"))\n",
        "# None"
      ],
      "metadata": {
        "colab": {
          "base_uri": "https://localhost:8080/"
        },
        "id": "STqJHazoun1y",
        "outputId": "5767f5ca-a025-4b0a-aeda-5fb3049e8fb5"
      },
      "execution_count": 34,
      "outputs": [
        {
          "output_type": "stream",
          "name": "stdout",
          "text": [
            "None\n"
          ]
        }
      ]
    },
    {
      "cell_type": "markdown",
      "source": [
        "Repeated matches is another regex concept.\n",
        "* The star (*) takes as many character as possible.\n"
      ],
      "metadata": {
        "id": "i9_mHgy6xh9d"
      }
    },
    {
      "cell_type": "code",
      "source": [
        "print(re.search(r\"Py[a-z]*n\", \"Python Programming\"))\n",
        "# <re.Match object; span=(0, 6), match='Python'>"
      ],
      "metadata": {
        "colab": {
          "base_uri": "https://localhost:8080/"
        },
        "id": "7Hwpl2DNxhSK",
        "outputId": "205644f1-7a15-461b-9b91-aad011b8ace7"
      },
      "execution_count": 35,
      "outputs": [
        {
          "output_type": "stream",
          "name": "stdout",
          "text": [
            "<re.Match object; span=(0, 6), match='Python'>\n"
          ]
        }
      ]
    },
    {
      "cell_type": "markdown",
      "source": [
        "* The plus (+) character matches one or more occurrences of the character before it."
      ],
      "metadata": {
        "id": "TxqJPlQ7uyxy"
      }
    },
    {
      "cell_type": "code",
      "source": [
        "print(re.search(r\"o+l+\", \"woolly\"))\n",
        "# <re.Match object; span=(1, 5), match='ooll'>"
      ],
      "metadata": {
        "colab": {
          "base_uri": "https://localhost:8080/"
        },
        "id": "mD9smJvCu3Kx",
        "outputId": "25d51e5a-eba7-49df-ea1d-d4143f41d055"
      },
      "execution_count": 36,
      "outputs": [
        {
          "output_type": "stream",
          "name": "stdout",
          "text": [
            "<re.Match object; span=(1, 5), match='ooll'>\n"
          ]
        }
      ]
    },
    {
      "cell_type": "markdown",
      "source": [
        "* The question (?) mark symbol means either zero or one occurrence of the character before it."
      ],
      "metadata": {
        "id": "nf41x191u1jI"
      }
    },
    {
      "cell_type": "code",
      "source": [
        "print(re.search(r\"p?each\", \"I like peaches\"))\n",
        "# <re.Match object; span=(7, 12), match='peach'>"
      ],
      "metadata": {
        "colab": {
          "base_uri": "https://localhost:8080/"
        },
        "id": "y5yJ1T9xu6cH",
        "outputId": "2ea5ed2a-e458-4902-e05a-1be48a52e67e"
      },
      "execution_count": 37,
      "outputs": [
        {
          "output_type": "stream",
          "name": "stdout",
          "text": [
            "<re.Match object; span=(7, 12), match='peach'>\n"
          ]
        }
      ]
    },
    {
      "cell_type": "markdown",
      "source": [
        "## Managing Files & Bash Scripting"
      ],
      "metadata": {
        "id": "pIKNu0FBqGDo"
      }
    },
    {
      "cell_type": "markdown",
      "source": [
        "### Managing Files with Python\n",
        "\n",
        "* Function `open` will start to open the file.\n",
        "* To read file, use the readline & read function.\n",
        "* To ensure that all open files are always closed, use an alternative method to write it as a block of code  using the `with` keyword.\n",
        "* Function `open` by default using mode \"r\" (read-only), can be used to write file with mode \"w\" (write-only), if file exists will be overwritten. To avoid, use mode \"a\" for append, or mode \"r+\" for read-write.\n",
        "\n"
      ],
      "metadata": {
        "id": "it34SuBKrGqc"
      }
    },
    {
      "cell_type": "code",
      "source": [
        "text = \"\"\"\n",
        "The itsy bitsy spider climbed up the waterspout.\n",
        "Down came the rain\n",
        "and washed the spider out.\n",
        "\"\"\"\n",
        "\n",
        "with open(\"spider.txt\", \"w\") as file:\n",
        "  file.write(text)"
      ],
      "metadata": {
        "id": "t2fPRjKLikka"
      },
      "execution_count": 38,
      "outputs": []
    },
    {
      "cell_type": "code",
      "source": [
        "with open(\"spider.txt\", \"r\") as file:\n",
        "  print(file.read())"
      ],
      "metadata": {
        "colab": {
          "base_uri": "https://localhost:8080/"
        },
        "id": "rP-j3PQ4rufc",
        "outputId": "f8206996-63bf-49a9-8471-1d3c76258c31"
      },
      "execution_count": 39,
      "outputs": [
        {
          "output_type": "stream",
          "name": "stdout",
          "text": [
            "\n",
            "The itsy bitsy spider climbed up the waterspout.\n",
            "Down came the rain\n",
            "and washed the spider out.\n",
            "\n"
          ]
        }
      ]
    },
    {
      "cell_type": "markdown",
      "source": [
        "### Bash Scripting\n",
        "\n",
        "* echo: print information (like environment variable) to standard output\n",
        "* cat file: shows the content of the file through standard output\n",
        "* ls: lists the contents of the current directory\n",
        "* cd directory: change current working directory to the specified one \n",
        "* rm: remove file or directory (with specific arguments)\n",
        "* chmod modifiers files: change permissions for the files according to the provided modifiers\n",
        "* man: show command documentation"
      ],
      "metadata": {
        "id": "0LVi_k4-suB9"
      }
    },
    {
      "cell_type": "code",
      "source": [
        "!echo \"Hello\""
      ],
      "metadata": {
        "colab": {
          "base_uri": "https://localhost:8080/"
        },
        "id": "UtpZYhEqthbe",
        "outputId": "8948b75a-4d92-4c92-ee83-755bfe642264"
      },
      "execution_count": 40,
      "outputs": [
        {
          "output_type": "stream",
          "name": "stdout",
          "text": [
            "Hello\n"
          ]
        }
      ]
    },
    {
      "cell_type": "code",
      "source": [
        "!ls"
      ],
      "metadata": {
        "colab": {
          "base_uri": "https://localhost:8080/"
        },
        "id": "wgZGdpQftL-I",
        "outputId": "69c89e0e-a9ff-4eb9-b191-365ad1fed53b"
      },
      "execution_count": 42,
      "outputs": [
        {
          "output_type": "stream",
          "name": "stdout",
          "text": [
            "sample_data  spider.txt\n"
          ]
        }
      ]
    },
    {
      "cell_type": "code",
      "source": [
        "!cat \"spider.txt\""
      ],
      "metadata": {
        "colab": {
          "base_uri": "https://localhost:8080/"
        },
        "id": "yw5oyWHRsQvj",
        "outputId": "9bb0e1fa-2743-4c2f-9c87-6d994b5cf755"
      },
      "execution_count": 43,
      "outputs": [
        {
          "output_type": "stream",
          "name": "stdout",
          "text": [
            "\n",
            "The itsy bitsy spider climbed up the waterspout.\n",
            "Down came the rain\n",
            "and washed the spider out.\n"
          ]
        }
      ]
    },
    {
      "cell_type": "code",
      "source": [
        "!mkdir \"MyFirstFolder\"\n",
        "!ls"
      ],
      "metadata": {
        "colab": {
          "base_uri": "https://localhost:8080/"
        },
        "id": "Ju1Dk6y3tS7b",
        "outputId": "d6546abe-4418-4eba-e407-61840a3f2d26"
      },
      "execution_count": 44,
      "outputs": [
        {
          "output_type": "stream",
          "name": "stdout",
          "text": [
            "MyFirstFolder  sample_data  spider.txt\n"
          ]
        }
      ]
    },
    {
      "cell_type": "code",
      "source": [
        "!for i in *; do echo $i; done"
      ],
      "metadata": {
        "id": "_4slrSr9uB1z",
        "colab": {
          "base_uri": "https://localhost:8080/"
        },
        "outputId": "b5f59283-8335-4cbb-f97c-9d7e07761788"
      },
      "execution_count": 45,
      "outputs": [
        {
          "output_type": "stream",
          "name": "stdout",
          "text": [
            "MyFirstFolder\n",
            "sample_data\n",
            "spider.txt\n"
          ]
        }
      ]
    }
  ]
}